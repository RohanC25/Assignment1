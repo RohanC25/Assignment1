{
 "cells": [
  {
   "cell_type": "markdown",
   "id": "d1329992-ec1a-414c-b72c-f2ad5299dbe7",
   "metadata": {},
   "source": [
    "<b>My Jupyter Notebook on IBM Watson Studio</b>"
   ]
  },
  {
   "cell_type": "markdown",
   "id": "07185134-9269-4226-a08f-c5ae063c875f",
   "metadata": {},
   "source": [
    "<b>Rohan Chaudhari</b>"
   ]
  },
  {
   "cell_type": "markdown",
   "id": "e198920a-5715-457f-b186-d0b28ca93eda",
   "metadata": {},
   "source": [
    "<b>Student</b>"
   ]
  },
  {
   "cell_type": "markdown",
   "id": "52e3de73-c655-4d66-8631-ec239c990771",
   "metadata": {},
   "source": [
    "*I am interested in data science because Data science is a world of endless possibilities.*"
   ]
  },
  {
   "cell_type": "markdown",
   "id": "e1cef07b-ccd6-4043-b543-f40f596e1be7",
   "metadata": {},
   "source": [
    "###The following code tests the gauss formula"
   ]
  },
  {
   "cell_type": "code",
   "execution_count": 7,
   "id": "86d6594c-9bbc-4f65-8266-97a04fde6d50",
   "metadata": {},
   "outputs": [
    {
     "data": {
      "text/plain": [
       "True"
      ]
     },
     "execution_count": 7,
     "metadata": {},
     "output_type": "execute_result"
    }
   ],
   "source": [
    "def gauss(n):\n",
    "    return(n*(n+1))/2\n",
    "gauss(100) == sum(range(101))"
   ]
  },
  {
   "cell_type": "markdown",
   "id": "83db859d-d963-4f3e-8bd2-25237fa41ce8",
   "metadata": {},
   "source": [
    "* [Back Cover]\n",
    "(http://garrettgman.github.io/back0<br>\n",
    "<s> * Preface </s>"
   ]
  },
  {
   "cell_type": "markdown",
   "id": "90a5bfbc-57a3-47db-bef2-dfc2ae9454d3",
   "metadata": {},
   "source": [
    "### Data Modeling\n",
    "1.Science\n",
    "2.Distribution\n",
    "3.Model Fitting"
   ]
  },
  {
   "cell_type": "markdown",
   "id": "441c0282-c02b-4fc8-997f-93e1d234cacd",
   "metadata": {},
   "source": [
    "### Data Wrangling\n",
    "1.Importing Data\n",
    "2.Tidy Data\n"
   ]
  },
  {
   "cell_type": "code",
   "execution_count": null,
   "id": "7e27ca46-cf4e-4466-8fc9-14cee53b41c2",
   "metadata": {},
   "outputs": [],
   "source": []
  }
 ],
 "metadata": {
  "kernelspec": {
   "display_name": "Python",
   "language": "python",
   "name": "conda-env-python-py"
  },
  "language_info": {
   "codemirror_mode": {
    "name": "ipython",
    "version": 3
   },
   "file_extension": ".py",
   "mimetype": "text/x-python",
   "name": "python",
   "nbconvert_exporter": "python",
   "pygments_lexer": "ipython3",
   "version": "3.7.12"
  }
 },
 "nbformat": 4,
 "nbformat_minor": 5
}
